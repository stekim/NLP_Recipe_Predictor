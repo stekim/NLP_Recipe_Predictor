{
  "nbformat": 4,
  "nbformat_minor": 0,
  "metadata": {
    "kernelspec": {
      "display_name": "Python 3",
      "language": "python",
      "name": "python3"
    },
    "language_info": {
      "codemirror_mode": {
        "name": "ipython",
        "version": 3
      },
      "file_extension": ".py",
      "mimetype": "text/x-python",
      "name": "python",
      "nbconvert_exporter": "python",
      "pygments_lexer": "ipython3",
      "version": "3.7.3"
    },
    "colab": {
      "name": "COGS 225 Seq2Seq final project-Recipe.ipynb",
      "provenance": []
    },
    "accelerator": "GPU"
  },
  "cells": [
    {
      "cell_type": "code",
      "metadata": {
        "scrolled": true,
        "id": "YNmQWgsF6R_7",
        "colab_type": "code",
        "colab": {
          "base_uri": "https://localhost:8080/",
          "height": 513
        },
        "outputId": "603b95fa-74ae-4fe6-e844-e52b94a0f150"
      },
      "source": [
        "!pip install --user -q ktext\n",
        "!pip install --user  -q annoy\n",
        "!pip install --user  tensorflow_hub"
      ],
      "execution_count": 1,
      "outputs": [
        {
          "output_type": "stream",
          "text": [
            "\u001b[K     |████████████████████████████████| 143kB 10.4MB/s \n",
            "\u001b[K     |████████████████████████████████| 163kB 18.4MB/s \n",
            "\u001b[K     |████████████████████████████████| 317kB 9.6MB/s \n",
            "\u001b[K     |████████████████████████████████| 51kB 5.3MB/s \n",
            "\u001b[K     |████████████████████████████████| 481kB 25.0MB/s \n",
            "\u001b[K     |████████████████████████████████| 245kB 26.2MB/s \n",
            "\u001b[K     |████████████████████████████████| 102kB 12.5MB/s \n",
            "\u001b[K     |████████████████████████████████| 51kB 7.1MB/s \n",
            "\u001b[K     |████████████████████████████████| 3.0MB 33.3MB/s \n",
            "\u001b[K     |████████████████████████████████| 71kB 9.9MB/s \n",
            "\u001b[K     |████████████████████████████████| 112kB 54.8MB/s \n",
            "\u001b[?25h  Building wheel for pathos (setup.py) ... \u001b[?25l\u001b[?25hdone\n",
            "  Building wheel for python-levenshtein (setup.py) ... \u001b[?25l\u001b[?25hdone\n",
            "  Building wheel for cytoolz (setup.py) ... \u001b[?25l\u001b[?25hdone\n",
            "  Building wheel for ftfy (setup.py) ... \u001b[?25l\u001b[?25hdone\n",
            "  Building wheel for ppft (setup.py) ... \u001b[?25l\u001b[?25hdone\n",
            "  Building wheel for pox (setup.py) ... \u001b[?25l\u001b[?25hdone\n",
            "\u001b[33m  WARNING: The script unidecode is installed in '/root/.local/bin' which is not on PATH.\n",
            "  Consider adding this directory to PATH or, if you prefer to suppress this warning, use --no-warn-script-location.\u001b[0m\n",
            "\u001b[33m  WARNING: The script ftfy is installed in '/root/.local/bin' which is not on PATH.\n",
            "  Consider adding this directory to PATH or, if you prefer to suppress this warning, use --no-warn-script-location.\u001b[0m\n",
            "\u001b[K     |████████████████████████████████| 645kB 7.6MB/s \n",
            "\u001b[?25h  Building wheel for annoy (setup.py) ... \u001b[?25l\u001b[?25hdone\n",
            "Requirement already satisfied: tensorflow_hub in /usr/local/lib/python3.6/dist-packages (0.8.0)\n",
            "Requirement already satisfied: protobuf>=3.8.0 in /usr/local/lib/python3.6/dist-packages (from tensorflow_hub) (3.10.0)\n",
            "Requirement already satisfied: numpy>=1.12.0 in /usr/local/lib/python3.6/dist-packages (from tensorflow_hub) (1.18.5)\n",
            "Requirement already satisfied: six>=1.12.0 in /usr/local/lib/python3.6/dist-packages (from tensorflow_hub) (1.12.0)\n",
            "Requirement already satisfied: setuptools in /usr/local/lib/python3.6/dist-packages (from protobuf>=3.8.0->tensorflow_hub) (47.1.1)\n"
          ],
          "name": "stdout"
        }
      ]
    },
    {
      "cell_type": "code",
      "metadata": {
        "id": "xsOJnlAx6_ML",
        "colab_type": "code",
        "colab": {
          "base_uri": "https://localhost:8080/",
          "height": 34
        },
        "outputId": "7b92fdd1-bb76-45cd-9818-e0a71ab9d7ac"
      },
      "source": [
        "!pip install annoy"
      ],
      "execution_count": 5,
      "outputs": [
        {
          "output_type": "stream",
          "text": [
            "Requirement already satisfied: annoy in /root/.local/lib/python3.6/site-packages (1.16.3)\n"
          ],
          "name": "stdout"
        }
      ]
    },
    {
      "cell_type": "code",
      "metadata": {
        "scrolled": true,
        "id": "dnFbhSne6SAD",
        "colab_type": "code",
        "colab": {}
      },
      "source": [
        "import json\n",
        "from urllib.request import urlopen\n",
        "\n",
        "from annoy import AnnoyIndex\n",
        "from tensorflow.python.keras.layers import Input, Dense, LSTM, GRU, Embedding, Lambda, BatchNormalization\n",
        "from tensorflow.python.keras.models import load_model, Model\n",
        "from tensorflow.python.keras import optimizer\n",
        "from tensorflow.python.keras.preprocessing.sequence import pad_sequences\n",
        "from keras.utils import get_file, to_categorical\n",
        "from ktext.preprocess import processor\n",
        "import numpy as np\n",
        "import pandas as pd\n",
        "import random\n",
        "from tqdm import tqdm"
      ],
      "execution_count": 0,
      "outputs": []
    },
    {
      "cell_type": "code",
      "metadata": {
        "scrolled": true,
        "id": "77O7Qlj26SAG",
        "colab_type": "code",
        "colab": {}
      },
      "source": [
        "# get training data\n",
        "\n",
        "# data = pd.read_csv('final_recipes.csv')\n",
        "data = pd.read_csv('final_two.csv')\n",
        "# data = data.replace(to_replace= [\"[\",\"'\",\"]\"], value= '', regex=True)\n"
      ],
      "execution_count": 0,
      "outputs": []
    },
    {
      "cell_type": "code",
      "metadata": {
        "id": "ElQbWhvj6SAJ",
        "colab_type": "code",
        "colab": {}
      },
      "source": [
        "data.dropna(inplace=True)\n",
        "data['ingredients'] = data['ingredients'].apply(lambda x: x.replace(\"[\",\"\").replace(\"'\",\"\").replace(\"]\",\"\").replace(\" , \",\"\").replace(\",,,,,,\",\"\").replace(\",,\",\"\").replace(\",,,\",\"\").replace(\",,,,\",\"\").replace(\",,,,,\",\"\"))\n",
        "data['name'] = data['name'].apply(lambda x: x.replace('  ',' ').replace('  ',' '))"
      ],
      "execution_count": 0,
      "outputs": []
    },
    {
      "cell_type": "code",
      "metadata": {
        "id": "GjOdqjEq6SAO",
        "colab_type": "code",
        "colab": {
          "base_uri": "https://localhost:8080/",
          "height": 714
        },
        "outputId": "f58960ff-e66c-4bbd-926e-3d978bfceed5"
      },
      "source": [
        "data['name'].head(40)"
      ],
      "execution_count": 5,
      "outputs": [
        {
          "output_type": "execute_result",
          "data": {
            "text/plain": [
              "0              arriba baked winter squash mexican style\n",
              "1                       a bit different breakfast pizza\n",
              "2                              all in the kitchen chili\n",
              "3                                     alouette potatoes\n",
              "4                      amish tomato ketchup for canning\n",
              "5                                apple a day milk shake\n",
              "6                                  aww marinated olives\n",
              "7                         backyard style barbecued ribs\n",
              "8                               bananas 4 ice cream pie\n",
              "9                                beat this banana bread\n",
              "10                           berry good sandwich spread\n",
              "11                         better than sex strawberries\n",
              "12                       better then bush s baked beans\n",
              "13                            boat house collard greens\n",
              "14                               calm your nerves tonic\n",
              "15                       chicken lickin good pork chops\n",
              "16                                       chile rellenos\n",
              "17                                        chinese candy\n",
              "18                                    chinese chop suey\n",
              "19                      cream of cauliflower soup vegan\n",
              "20                                cream of spinach soup\n",
              "21                          cream of spinach soup vegan\n",
              "22                               crispy crunchy chicken\n",
              "23                           deep fried dessert thingys\n",
              "24                       easiest ever hollandaise sauce\n",
              "25                      emotional balance spice mixture\n",
              "26                           fool the meat eaters chili\n",
              "27                                 forgotten minestrone\n",
              "28                                       fried potatoes\n",
              "29                 george s at the cove black bean soup\n",
              "30                           get the sensation brownies\n",
              "31                        global gourmet taco casserole\n",
              "32                                  grilled ranch bread\n",
              "33                              grilled venison burgers\n",
              "34                    healthy for them yogurt popsicles\n",
              "35                   homemade vegetable soup from a can\n",
              "36    how i got my family to eat spinach spinach cas...\n",
              "37     i can t believe it s low fat creamy potato salad\n",
              "38                         i can t believe it s spinach\n",
              "39          i don t feel like cooking tonight casserole\n",
              "Name: name, dtype: object"
            ]
          },
          "metadata": {
            "tags": []
          },
          "execution_count": 5
        }
      ]
    },
    {
      "cell_type": "code",
      "metadata": {
        "id": "KeRvE-Q66SAS",
        "colab_type": "code",
        "colab": {}
      },
      "source": [
        ""
      ],
      "execution_count": 0,
      "outputs": []
    },
    {
      "cell_type": "code",
      "metadata": {
        "id": "UafvYdJL6SAW",
        "colab_type": "code",
        "colab": {}
      },
      "source": [
        "from sklearn.model_selection import train_test_split\n",
        "\n",
        "#target - recipe name\n",
        "#source = ingredients\n",
        "source_docs = data['ingredients'].tolist()\n",
        "target_docs = data['name'].tolist()\n",
        "\n",
        "# source_docs_t = data['ingredients'].sample(2000, random_state=7).tolist()\n",
        "# target_docs_t = data['name'].sample(2000, random_state=7).tolist()\n",
        "\n",
        "train_source_docs, test_source_docs, train_target_docs, test_target_docs = train_test_split(source_docs, target_docs, test_size=0.33, random_state=42)\n",
        "\n",
        "for i in range(len(train_source_docs)):\n",
        "    train_source_docs[i] = train_source_docs[i].replace(\"'\",\"\").replace(\"  \",\" \").replace(\"[\",\"\").replace(\"]\",\"\").replace(\" ,\",\"\")\n",
        "\n",
        "test_docs = pd.Series(test_target_docs).sample(10000).tolist()\n",
        "\n"
      ],
      "execution_count": 0,
      "outputs": []
    },
    {
      "cell_type": "code",
      "metadata": {
        "id": "NJpp2uhw6SAZ",
        "colab_type": "code",
        "colab": {}
      },
      "source": [
        ""
      ],
      "execution_count": 0,
      "outputs": []
    },
    {
      "cell_type": "code",
      "metadata": {
        "id": "pD5lJrqR6SAd",
        "colab_type": "code",
        "colab": {}
      },
      "source": [
        "# len(test_docs)\n",
        "# test_docs\n",
        "# train_source_docs\n",
        "# train_target_docs"
      ],
      "execution_count": 0,
      "outputs": []
    },
    {
      "cell_type": "code",
      "metadata": {
        "scrolled": true,
        "id": "ZF6aWdp76SAg",
        "colab_type": "code",
        "colab": {
          "base_uri": "https://localhost:8080/",
          "height": 187
        },
        "outputId": "286d2536-d5f5-4aa3-9de5-8be2bd804065"
      },
      "source": [
        "#processor adds padding to all text entries in order to make all inputs the same length\n",
        "proc = processor(heuristic_pct_padding=.95, keep_n=10000)\n",
        "vecs = proc.fit_transform(target_docs)\n",
        "\n"
      ],
      "execution_count": 8,
      "outputs": [
        {
          "output_type": "stream",
          "text": [
            "WARNING:root:....tokenizing data\n",
            "WARNING:root:Setting maximum document length to 10 based upon heuristic of 0.95 percentile.\n",
            " See full histogram by insepecting the `document_length_stats` attribute.\n",
            "WARNING:root:(1/2) done. 16 sec\n",
            "WARNING:root:....building corpus\n",
            "WARNING:root:(2/2) done. 0 sec\n",
            "WARNING:root:Finished parsing 231,636 documents.\n",
            "WARNING:root:...fit is finished, beginning transform\n",
            "WARNING:root:...padding data\n",
            "WARNING:root:done. 1 sec\n"
          ],
          "name": "stderr"
        }
      ]
    },
    {
      "cell_type": "code",
      "metadata": {
        "scrolled": true,
        "id": "9IStIGAa6SAk",
        "colab_type": "code",
        "colab": {}
      },
      "source": [
        "# proc.token_count_pandas().head(20)"
      ],
      "execution_count": 0,
      "outputs": []
    },
    {
      "cell_type": "code",
      "metadata": {
        "id": "CJS_4BZA6SAo",
        "colab_type": "code",
        "colab": {
          "base_uri": "https://localhost:8080/",
          "height": 173
        },
        "outputId": "b4f6ec70-579f-46ed-82e8-03432bb8bb7b"
      },
      "source": [
        "proc.document_length_stats"
      ],
      "execution_count": 10,
      "outputs": [
        {
          "output_type": "execute_result",
          "data": {
            "text/html": [
              "<div>\n",
              "<style scoped>\n",
              "    .dataframe tbody tr th:only-of-type {\n",
              "        vertical-align: middle;\n",
              "    }\n",
              "\n",
              "    .dataframe tbody tr th {\n",
              "        vertical-align: top;\n",
              "    }\n",
              "\n",
              "    .dataframe thead th {\n",
              "        text-align: right;\n",
              "    }\n",
              "</style>\n",
              "<table border=\"1\" class=\"dataframe\">\n",
              "  <thead>\n",
              "    <tr style=\"text-align: right;\">\n",
              "      <th></th>\n",
              "      <th>bin</th>\n",
              "      <th>doc_count</th>\n",
              "      <th>cumsum_pct</th>\n",
              "    </tr>\n",
              "  </thead>\n",
              "  <tbody>\n",
              "    <tr>\n",
              "      <th>1</th>\n",
              "      <td>0</td>\n",
              "      <td>25419</td>\n",
              "      <td>0.109737</td>\n",
              "    </tr>\n",
              "    <tr>\n",
              "      <th>0</th>\n",
              "      <td>5</td>\n",
              "      <td>191905</td>\n",
              "      <td>0.938213</td>\n",
              "    </tr>\n",
              "    <tr>\n",
              "      <th>2</th>\n",
              "      <td>10</td>\n",
              "      <td>14253</td>\n",
              "      <td>0.999745</td>\n",
              "    </tr>\n",
              "    <tr>\n",
              "      <th>3</th>\n",
              "      <td>15</td>\n",
              "      <td>59</td>\n",
              "      <td>1.000000</td>\n",
              "    </tr>\n",
              "  </tbody>\n",
              "</table>\n",
              "</div>"
            ],
            "text/plain": [
              "   bin  doc_count  cumsum_pct\n",
              "1    0      25419    0.109737\n",
              "0    5     191905    0.938213\n",
              "2   10      14253    0.999745\n",
              "3   15         59    1.000000"
            ]
          },
          "metadata": {
            "tags": []
          },
          "execution_count": 10
        }
      ]
    },
    {
      "cell_type": "code",
      "metadata": {
        "id": "5ME7igm26SAt",
        "colab_type": "code",
        "colab": {}
      },
      "source": [
        "assert vecs.shape[0] == len(target_docs)"
      ],
      "execution_count": 0,
      "outputs": []
    },
    {
      "cell_type": "code",
      "metadata": {
        "id": "8wajEh496SAx",
        "colab_type": "code",
        "colab": {
          "base_uri": "https://localhost:8080/",
          "height": 51
        },
        "outputId": "f0c82cb5-425d-47b3-d35d-7b6b94054f44"
      },
      "source": [
        "print('original list: ', target_docs[0])\n",
        "print('tokenized list: ', vecs[0])"
      ],
      "execution_count": 12,
      "outputs": [
        {
          "output_type": "stream",
          "text": [
            "original list:  arriba baked winter squash mexican style\n",
            "tokenized list:  [   0    0    0    0 7897   22  587  121  106   45]\n"
          ],
          "name": "stdout"
        }
      ]
    },
    {
      "cell_type": "code",
      "metadata": {
        "id": "KO-XKkep6SA1",
        "colab_type": "code",
        "colab": {
          "base_uri": "https://localhost:8080/",
          "height": 51
        },
        "outputId": "4ee44764-4c90-483f-a889-ecb681668e0f"
      },
      "source": [
        "vocab_size = max(proc.id2token.keys()) + 1\n",
        "max_length = proc.padding_maxlen\n",
        "\n",
        "print('vocab size: ', vocab_size)\n",
        "print('max length allowed for documents: ', max_length)"
      ],
      "execution_count": 13,
      "outputs": [
        {
          "output_type": "stream",
          "text": [
            "vocab size:  10002\n",
            "max length allowed for documents:  10\n"
          ],
          "name": "stdout"
        }
      ]
    },
    {
      "cell_type": "code",
      "metadata": {
        "id": "QYMz6aYM6SA4",
        "colab_type": "code",
        "colab": {
          "base_uri": "https://localhost:8080/",
          "height": 34
        },
        "outputId": "f51d076f-9977-4b18-dae0-1003dd779e82"
      },
      "source": [
        "sequences = []\n",
        "for arr in tqdm(vecs):\n",
        "    non_zero = (arr != 0).argmax()\n",
        "    for i in range(non_zero, len(arr)):\n",
        "        sequences.append(arr[:i+1])\n",
        "sequences = pad_sequences(sequences, maxlen=max_length, padding='pre')\n",
        "sequences = np.array(sequences)\n",
        "X, y = sequences[:,:-1], sequences[:,-1]\n",
        "# y = to_categorical(y, num_classes=vocab_size)"
      ],
      "execution_count": 14,
      "outputs": [
        {
          "output_type": "stream",
          "text": [
            "100%|██████████| 231636/231636 [00:01<00:00, 225069.32it/s]\n"
          ],
          "name": "stderr"
        }
      ]
    },
    {
      "cell_type": "code",
      "metadata": {
        "id": "a2thBWwG6SA8",
        "colab_type": "code",
        "colab": {
          "base_uri": "https://localhost:8080/",
          "height": 323
        },
        "outputId": "3409f5a6-8b11-4a04-d61b-3556ee16d58c"
      },
      "source": [
        "i = Input(shape=(max_length-1,))\n",
        "x = Embedding(vocab_size, 256, input_length=max_length-1)(i)\n",
        "x = LSTM(256, return_sequences=True)(x)\n",
        "last_timestep = Lambda(lambda x: x[:, -1, :])(x)\n",
        "last_timestep = Dense(vocab_size, activation='softmax')(last_timestep)\n",
        "model = Model(i, last_timestep)\n",
        "model.summary()"
      ],
      "execution_count": 15,
      "outputs": [
        {
          "output_type": "stream",
          "text": [
            "Model: \"model\"\n",
            "_________________________________________________________________\n",
            "Layer (type)                 Output Shape              Param #   \n",
            "=================================================================\n",
            "input_1 (InputLayer)         [(None, 9)]               0         \n",
            "_________________________________________________________________\n",
            "embedding (Embedding)        (None, 9, 256)            2560512   \n",
            "_________________________________________________________________\n",
            "lstm (LSTM)                  (None, 9, 256)            525312    \n",
            "_________________________________________________________________\n",
            "lambda (Lambda)              (None, 256)               0         \n",
            "_________________________________________________________________\n",
            "dense (Dense)                (None, 10002)             2570514   \n",
            "=================================================================\n",
            "Total params: 5,656,338\n",
            "Trainable params: 5,656,338\n",
            "Non-trainable params: 0\n",
            "_________________________________________________________________\n"
          ],
          "name": "stdout"
        }
      ]
    },
    {
      "cell_type": "code",
      "metadata": {
        "scrolled": true,
        "id": "SiVs2uM96SBE",
        "colab_type": "code",
        "colab": {
          "base_uri": "https://localhost:8080/",
          "height": 547
        },
        "outputId": "66e4878d-87d5-4686-80a9-d18d3acfbed9"
      },
      "source": [
        "model.compile(loss='sparse_categorical_crossentropy', optimizer='adam', metrics=['accuracy'])\n",
        "history = model.fit(X, y, epochs=15, batch_size=256, validation_split=0.2)"
      ],
      "execution_count": 16,
      "outputs": [
        {
          "output_type": "stream",
          "text": [
            "Epoch 1/15\n",
            "3162/3162 [==============================] - 110s 35ms/step - loss: 5.9032 - accuracy: 0.1255 - val_loss: 6.3126 - val_accuracy: 0.1560\n",
            "Epoch 2/15\n",
            "3162/3162 [==============================] - 106s 34ms/step - loss: 5.2054 - accuracy: 0.1845 - val_loss: 6.2665 - val_accuracy: 0.1786\n",
            "Epoch 3/15\n",
            "3162/3162 [==============================] - 106s 34ms/step - loss: 4.9643 - accuracy: 0.2000 - val_loss: 6.3648 - val_accuracy: 0.1838\n",
            "Epoch 4/15\n",
            "3162/3162 [==============================] - 107s 34ms/step - loss: 4.8068 - accuracy: 0.2096 - val_loss: 6.3939 - val_accuracy: 0.1866\n",
            "Epoch 5/15\n",
            "3162/3162 [==============================] - 107s 34ms/step - loss: 4.6867 - accuracy: 0.2170 - val_loss: 6.5207 - val_accuracy: 0.1886\n",
            "Epoch 6/15\n",
            "3162/3162 [==============================] - 107s 34ms/step - loss: 4.5870 - accuracy: 0.2236 - val_loss: 6.5653 - val_accuracy: 0.1874\n",
            "Epoch 7/15\n",
            "3162/3162 [==============================] - 106s 34ms/step - loss: 4.5002 - accuracy: 0.2300 - val_loss: 6.6254 - val_accuracy: 0.1881\n",
            "Epoch 8/15\n",
            "3162/3162 [==============================] - 106s 34ms/step - loss: 4.4241 - accuracy: 0.2367 - val_loss: 6.7240 - val_accuracy: 0.1869\n",
            "Epoch 9/15\n",
            "3162/3162 [==============================] - 108s 34ms/step - loss: 4.3554 - accuracy: 0.2435 - val_loss: 6.7713 - val_accuracy: 0.1861\n",
            "Epoch 10/15\n",
            "3162/3162 [==============================] - 106s 34ms/step - loss: 4.2930 - accuracy: 0.2496 - val_loss: 6.8075 - val_accuracy: 0.1837\n",
            "Epoch 11/15\n",
            "3162/3162 [==============================] - 106s 33ms/step - loss: 4.2354 - accuracy: 0.2564 - val_loss: 6.9219 - val_accuracy: 0.1835\n",
            "Epoch 12/15\n",
            "3162/3162 [==============================] - 106s 34ms/step - loss: 4.1833 - accuracy: 0.2627 - val_loss: 6.9669 - val_accuracy: 0.1832\n",
            "Epoch 13/15\n",
            "3162/3162 [==============================] - 106s 34ms/step - loss: 4.1341 - accuracy: 0.2688 - val_loss: 7.0206 - val_accuracy: 0.1816\n",
            "Epoch 14/15\n",
            "3162/3162 [==============================] - 106s 34ms/step - loss: 4.0888 - accuracy: 0.2744 - val_loss: 7.0848 - val_accuracy: 0.1808\n",
            "Epoch 15/15\n",
            "3162/3162 [==============================] - 106s 34ms/step - loss: 4.0467 - accuracy: 0.2802 - val_loss: 7.1421 - val_accuracy: 0.1771\n"
          ],
          "name": "stdout"
        }
      ]
    },
    {
      "cell_type": "code",
      "metadata": {
        "id": "h7__MU746SBI",
        "colab_type": "code",
        "colab": {
          "base_uri": "https://localhost:8080/",
          "height": 295
        },
        "outputId": "967dd778-4469-4a20-81f6-9a8936664be4"
      },
      "source": [
        "from matplotlib import pyplot as plt\n",
        "plt.plot(history.history['accuracy'])\n",
        "plt.plot(history.history['val_accuracy'])\n",
        "plt.title('model accuracy')\n",
        "plt.ylabel('accuracy')\n",
        "plt.xlabel('epoch')\n",
        "plt.legend(['train', 'val'], loc='upper left')\n",
        "plt.show()"
      ],
      "execution_count": 20,
      "outputs": [
        {
          "output_type": "display_data",
          "data": {
            "image/png": "[encoded data removed]",
            "text/plain": [
              "<Figure size 432x288 with 1 Axes>"
            ]
          },
          "metadata": {
            "tags": [],
            "needs_background": "light"
          }
        }
      ]
    },
    {
      "cell_type": "code",
      "metadata": {
        "id": "EBR9nNUl6SBL",
        "colab_type": "code",
        "colab": {}
      },
      "source": [
        "def generate_seq(model, proc, n_words, seed_text):\n",
        "    in_text = seed_text\n",
        "    for _ in range(n_words):\n",
        "        vec = proc.transform([in_text])[:,1:]\n",
        "        index = np.argmax(model.predict(vec, verbose=0), axis=1)[0]\n",
        "        out_word = ''\n",
        "        if index == 1:\n",
        "            out_word = '_unk_'\n",
        "        else:\n",
        "            out_word = proc.id2token[index]\n",
        "        in_text += ' ' + out_word\n",
        "    return in_text"
      ],
      "execution_count": 0,
      "outputs": []
    },
    {
      "cell_type": "code",
      "metadata": {
        "id": "roauYvKE6SBR",
        "colab_type": "code",
        "colab": {
          "base_uri": "https://localhost:8080/",
          "height": 34
        },
        "outputId": "e4fbc74b-0107-47e0-fb17-a6134a737af9"
      },
      "source": [
        "generate_seq(model, proc, max_length, 'cold')"
      ],
      "execution_count": 22,
      "outputs": [
        {
          "output_type": "execute_result",
          "data": {
            "text/plain": [
              "'cold cucumber and radish salad with lime dressing dressing salad salad'"
            ]
          },
          "metadata": {
            "tags": []
          },
          "execution_count": 22
        }
      ]
    },
    {
      "cell_type": "code",
      "metadata": {
        "id": "1M9peJaz6SBU",
        "colab_type": "code",
        "colab": {}
      },
      "source": [
        ""
      ],
      "execution_count": 0,
      "outputs": []
    },
    {
      "cell_type": "code",
      "metadata": {
        "id": "k9b3TPOb6SBY",
        "colab_type": "code",
        "colab": {}
      },
      "source": [
        "embedding_model = Model(inputs=model.inputs, outputs=model.layers[-3].output)\n",
        "import tensorflow as tf\n",
        "# import tensorflow_hub as hub\n",
        "\n",
        "#using goolge embeddings\n",
        "# embed = hub.load(\"https://tfhub.dev/google/universal-sentence-encoder/4\")\n"
      ],
      "execution_count": 0,
      "outputs": []
    },
    {
      "cell_type": "code",
      "metadata": {
        "id": "1r0ZHudr6SBc",
        "colab_type": "code",
        "colab": {}
      },
      "source": [
        "# embedding_model = embed(Model(inputs=model.inputs, outputs=model.layers[-3].output))"
      ],
      "execution_count": 0,
      "outputs": []
    },
    {
      "cell_type": "code",
      "metadata": {
        "id": "kjjW3Tre6SBf",
        "colab_type": "code",
        "colab": {
          "base_uri": "https://localhost:8080/",
          "height": 323
        },
        "outputId": "df187521-37e1-463a-a2b4-cdcaa28a3cbb"
      },
      "source": [
        "input_sequence = test_docs[random.randint(0, len(test_docs))]\n",
        "print('input sequence: ', input_sequence, '\\n\\nhidden states:\\n')\n",
        "vec = proc.transform([input_sequence])[:,1:]\n",
        "embedding_model.predict(vec)"
      ],
      "execution_count": 25,
      "outputs": [
        {
          "output_type": "stream",
          "text": [
            "input sequence:  greek country chicken \n",
            "\n",
            "hidden states:\n",
            "\n"
          ],
          "name": "stdout"
        },
        {
          "output_type": "execute_result",
          "data": {
            "text/plain": [
              "array([[[-5.42407681e-04,  6.79876626e-01, -6.25794637e-05, ...,\n",
              "         -4.59693978e-03, -5.75528204e-01,  1.30559877e-02],\n",
              "        [-2.56459498e-05,  5.66342711e-01, -4.34591101e-07, ...,\n",
              "         -2.33814735e-05, -7.82317761e-03, -1.34587707e-03],\n",
              "        [-2.72134512e-05,  8.61239731e-01, -9.25380959e-07, ...,\n",
              "         -8.50662618e-05, -7.37224892e-03, -1.27710449e-03],\n",
              "        ...,\n",
              "        [-1.19688184e-06,  2.14657299e-02, -1.39537747e-06, ...,\n",
              "         -2.58620867e-06, -2.99489126e-03, -1.19166132e-02],\n",
              "        [-1.22945441e-03,  1.17683625e-02, -2.97509786e-03, ...,\n",
              "         -2.38019181e-03, -1.72720514e-02, -9.95290279e-01],\n",
              "        [-9.29809563e-11,  5.44131435e-05, -1.45661124e-05, ...,\n",
              "         -8.28980592e-06, -8.71996939e-01, -3.08233539e-05]]],\n",
              "      dtype=float32)"
            ]
          },
          "metadata": {
            "tags": []
          },
          "execution_count": 25
        }
      ]
    },
    {
      "cell_type": "code",
      "metadata": {
        "id": "5BYWE3HG6SBj",
        "colab_type": "code",
        "colab": {}
      },
      "source": [
        "test_vecs = proc.transform(test_docs)"
      ],
      "execution_count": 0,
      "outputs": []
    },
    {
      "cell_type": "code",
      "metadata": {
        "id": "d4fCdgNP6SBn",
        "colab_type": "code",
        "colab": {}
      },
      "source": [
        "hidden_states = embedding_model.predict(test_vecs[:, 1:])"
      ],
      "execution_count": 0,
      "outputs": []
    },
    {
      "cell_type": "code",
      "metadata": {
        "id": "UhRk4_wP6SBq",
        "colab_type": "code",
        "colab": {}
      },
      "source": [
        "mean_vecs = np.mean(hidden_states, axis=1)\n",
        "max_vecs = np.max(hidden_states, axis=1)\n",
        "sum_vecs = np.sum(hidden_states, axis=1)"
      ],
      "execution_count": 0,
      "outputs": []
    },
    {
      "cell_type": "code",
      "metadata": {
        "id": "LYxbJCH56SBs",
        "colab_type": "code",
        "colab": {
          "base_uri": "https://localhost:8080/",
          "height": 88
        },
        "outputId": "f590aa90-486b-48c1-e255-fcab84927028"
      },
      "source": [
        "dimension = hidden_states.shape[-1]\n",
        "index = AnnoyIndex(dimension)\n",
        "for i, v in enumerate(sum_vecs):\n",
        "    index.add_item(i, v)\n",
        "index.build(10)"
      ],
      "execution_count": 29,
      "outputs": [
        {
          "output_type": "stream",
          "text": [
            "/usr/local/lib/python3.6/dist-packages/ipykernel_launcher.py:2: FutureWarning: The default argument for metric will be removed in future version of Annoy. Please pass metric='angular' explicitly.\n",
            "  \n"
          ],
          "name": "stderr"
        },
        {
          "output_type": "execute_result",
          "data": {
            "text/plain": [
              "True"
            ]
          },
          "metadata": {
            "tags": []
          },
          "execution_count": 29
        }
      ]
    },
    {
      "cell_type": "code",
      "metadata": {
        "id": "1RNXAP4Q6SBw",
        "colab_type": "code",
        "colab": {
          "base_uri": "https://localhost:8080/",
          "height": 221
        },
        "outputId": "6a4f304c-be32-49a8-b0da-a4b619d7bc10"
      },
      "source": [
        "input_sequence = test_docs[random.randint(0, len(test_docs))]\n",
        "print('Query: ', input_sequence)\n",
        "\n",
        "vec = proc.transform([input_sequence])[:,1:]\n",
        "vec = np.sum(embedding_model.predict(vec), axis=1)\n",
        "ids, _ = index.get_nns_by_vector(vec.T, 10, include_distances=True)\n",
        "\n",
        "print('\\nSearch Results:')\n",
        "[test_docs[i] for i in ids][1:]"
      ],
      "execution_count": 30,
      "outputs": [
        {
          "output_type": "stream",
          "text": [
            "Query:  crack dip\n",
            "\n",
            "Search Results:\n"
          ],
          "name": "stdout"
        },
        {
          "output_type": "execute_result",
          "data": {
            "text/plain": [
              "['incredible omelet',\n",
              " 'favorite brownies',\n",
              " 'gooey rolls',\n",
              " 'creole cake',\n",
              " 'best burgers',\n",
              " 'classic blondies',\n",
              " 'bisquick shortcakes',\n",
              " 'good sandwich',\n",
              " 'baked cheesecake']"
            ]
          },
          "metadata": {
            "tags": []
          },
          "execution_count": 30
        }
      ]
    },
    {
      "cell_type": "code",
      "metadata": {
        "id": "jc2GlKgv6SB0",
        "colab_type": "code",
        "colab": {
          "base_uri": "https://localhost:8080/",
          "height": 187
        },
        "outputId": "041f838c-9fd4-42cf-9152-134fecd0854c"
      },
      "source": [
        "source_proc = processor(heuristic_pct_padding=.95, keep_n=50000)\n",
        "source_vecs = source_proc.fit_transform(source_docs)"
      ],
      "execution_count": 31,
      "outputs": [
        {
          "output_type": "stream",
          "text": [
            "WARNING:root:....tokenizing data\n",
            "WARNING:root:Setting maximum document length to 30 based upon heuristic of 0.95 percentile.\n",
            " See full histogram by insepecting the `document_length_stats` attribute.\n",
            "WARNING:root:(1/2) done. 44 sec\n",
            "WARNING:root:....building corpus\n",
            "WARNING:root:(2/2) done. 1 sec\n",
            "WARNING:root:Finished parsing 231,636 documents.\n",
            "WARNING:root:...fit is finished, beginning transform\n",
            "WARNING:root:...padding data\n",
            "WARNING:root:done. 2 sec\n"
          ],
          "name": "stderr"
        }
      ]
    },
    {
      "cell_type": "code",
      "metadata": {
        "id": "otBNULHu6SB3",
        "colab_type": "code",
        "colab": {
          "base_uri": "https://localhost:8080/",
          "height": 187
        },
        "outputId": "688cb410-9b82-4dea-e35f-b17296996652"
      },
      "source": [
        "target_proc = processor(append_indicators=True, heuristic_pct_padding=.95, keep_n=12000, padding ='post')\n",
        "target_vecs = target_proc.fit_transform(target_docs)"
      ],
      "execution_count": 32,
      "outputs": [
        {
          "output_type": "stream",
          "text": [
            "WARNING:root:....tokenizing data\n",
            "WARNING:root:Setting maximum document length to 10 based upon heuristic of 0.95 percentile.\n",
            " See full histogram by insepecting the `document_length_stats` attribute.\n",
            "WARNING:root:(1/2) done. 16 sec\n",
            "WARNING:root:....building corpus\n",
            "WARNING:root:(2/2) done. 0 sec\n",
            "WARNING:root:Finished parsing 231,636 documents.\n",
            "WARNING:root:...fit is finished, beginning transform\n",
            "WARNING:root:...padding data\n",
            "WARNING:root:done. 1 sec\n"
          ],
          "name": "stderr"
        }
      ]
    },
    {
      "cell_type": "code",
      "metadata": {
        "id": "SvI9y2686SB5",
        "colab_type": "code",
        "colab": {}
      },
      "source": [
        ""
      ],
      "execution_count": 0,
      "outputs": []
    },
    {
      "cell_type": "code",
      "metadata": {
        "id": "8p05g_5g6SB8",
        "colab_type": "code",
        "colab": {}
      },
      "source": [
        "encoder_input_data = source_vecs\n",
        "encoder_seq_len = encoder_input_data.shape[1]\n",
        "\n",
        "decoder_input_data = target_vecs[:, :-1]\n",
        "decoder_target_data = target_vecs[:, 1:]\n",
        "\n",
        "num_encoder_tokens = max(source_proc.id2token.keys()) + 1\n",
        "num_decoder_tokens = max(target_proc.id2token.keys()) + 1"
      ],
      "execution_count": 0,
      "outputs": []
    },
    {
      "cell_type": "code",
      "metadata": {
        "id": "iXjEwNPu6SB_",
        "colab_type": "code",
        "colab": {}
      },
      "source": [
        "#Create encoder"
      ],
      "execution_count": 0,
      "outputs": []
    },
    {
      "cell_type": "code",
      "metadata": {
        "scrolled": true,
        "id": "dR4fjSLi6SCC",
        "colab_type": "code",
        "colab": {}
      },
      "source": [
        "word_emb_dim=512\n",
        "hidden_state_dim=1024\n",
        "encoder_seq_len=encoder_seq_len\n",
        "num_encoder_tokens=num_encoder_tokens\n",
        "num_decoder_tokens=num_decoder_tokens\n",
        "\n",
        "encoder_inputs = Input(shape=(encoder_seq_len,), name='Encoder-Input')\n",
        "x = Embedding(num_encoder_tokens, word_emb_dim, name='Body-Word-Embedding', mask_zero=False)(encoder_inputs)\n",
        "x = BatchNormalization(name='Encoder-Batchnorm-1')(x)\n",
        "_, state_h = GRU(hidden_state_dim, return_state=True, name='Encoder-Last-GRU', dropout=.5)(x)\n",
        "encoder_model = Model(inputs=encoder_inputs, outputs=state_h, name='Encoder-Model')\n",
        "seq2seq_encoder_out = encoder_model(encoder_inputs)"
      ],
      "execution_count": 0,
      "outputs": []
    },
    {
      "cell_type": "code",
      "metadata": {
        "id": "mlYVEJx16SCE",
        "colab_type": "code",
        "colab": {
          "base_uri": "https://localhost:8080/",
          "height": 289
        },
        "outputId": "f6432fcd-7103-4c16-b77e-8b9b6b0ed2d3"
      },
      "source": [
        "encoder_model.summary()"
      ],
      "execution_count": 36,
      "outputs": [
        {
          "output_type": "stream",
          "text": [
            "Model: \"Encoder-Model\"\n",
            "_________________________________________________________________\n",
            "Layer (type)                 Output Shape              Param #   \n",
            "=================================================================\n",
            "Encoder-Input (InputLayer)   [(None, 30)]              0         \n",
            "_________________________________________________________________\n",
            "Body-Word-Embedding (Embeddi (None, 30, 512)           2163712   \n",
            "_________________________________________________________________\n",
            "Encoder-Batchnorm-1 (BatchNo (None, 30, 512)           2048      \n",
            "_________________________________________________________________\n",
            "Encoder-Last-GRU (GRU)       [(None, 1024), (None, 102 4724736   \n",
            "=================================================================\n",
            "Total params: 6,890,496\n",
            "Trainable params: 6,889,472\n",
            "Non-trainable params: 1,024\n",
            "_________________________________________________________________\n"
          ],
          "name": "stdout"
        }
      ]
    },
    {
      "cell_type": "code",
      "metadata": {
        "id": "StbOHa956SCI",
        "colab_type": "code",
        "colab": {}
      },
      "source": [
        "decoder_inputs = Input(shape=(None,), name='Decoder-Input')\n",
        "dec_emb = Embedding(num_decoder_tokens, word_emb_dim, name='Decoder-Word-Embedding', mask_zero=False)(decoder_inputs)\n",
        "dec_bn = BatchNormalization(name='Decoder-Batchnorm-1')(dec_emb)\n",
        "decoder_gru = GRU(hidden_state_dim, return_state=True, return_sequences=True, name='Decoder-GRU', dropout=.5)\n",
        "decoder_gru_output, _ = decoder_gru(dec_bn, initial_state=seq2seq_encoder_out)\n",
        "x = BatchNormalization(name='Decoder-Batchnorm-2')(decoder_gru_output)\n",
        "decoder_dense = Dense(num_decoder_tokens, activation='softmax', name='Final-Output-Dense')\n",
        "decoder_outputs = decoder_dense(x)"
      ],
      "execution_count": 0,
      "outputs": []
    },
    {
      "cell_type": "code",
      "metadata": {
        "id": "AncfwqrG6SCK",
        "colab_type": "code",
        "colab": {}
      },
      "source": [
        "seq2seq_model = Model([encoder_inputs, decoder_inputs], decoder_outputs)"
      ],
      "execution_count": 0,
      "outputs": []
    },
    {
      "cell_type": "code",
      "metadata": {
        "id": "-Hl4-N166SCO",
        "colab_type": "code",
        "colab": {
          "base_uri": "https://localhost:8080/",
          "height": 442
        },
        "outputId": "04ca8f96-e374-4687-c6d2-c0ca7dea29e0"
      },
      "source": [
        "seq2seq_model.summary()"
      ],
      "execution_count": 39,
      "outputs": [
        {
          "output_type": "stream",
          "text": [
            "Model: \"model_2\"\n",
            "__________________________________________________________________________________________________\n",
            "Layer (type)                    Output Shape         Param #     Connected to                     \n",
            "==================================================================================================\n",
            "Decoder-Input (InputLayer)      [(None, None)]       0                                            \n",
            "__________________________________________________________________________________________________\n",
            "Decoder-Word-Embedding (Embeddi (None, None, 512)    6145024     Decoder-Input[0][0]              \n",
            "__________________________________________________________________________________________________\n",
            "Encoder-Input (InputLayer)      [(None, 30)]         0                                            \n",
            "__________________________________________________________________________________________________\n",
            "Decoder-Batchnorm-1 (BatchNorma (None, None, 512)    2048        Decoder-Word-Embedding[0][0]     \n",
            "__________________________________________________________________________________________________\n",
            "Encoder-Model (Model)           (None, 1024)         6890496     Encoder-Input[0][0]              \n",
            "__________________________________________________________________________________________________\n",
            "Decoder-GRU (GRU)               [(None, None, 1024), 4724736     Decoder-Batchnorm-1[0][0]        \n",
            "                                                                 Encoder-Model[1][0]              \n",
            "__________________________________________________________________________________________________\n",
            "Decoder-Batchnorm-2 (BatchNorma (None, None, 1024)   4096        Decoder-GRU[0][0]                \n",
            "__________________________________________________________________________________________________\n",
            "Final-Output-Dense (Dense)      (None, None, 12002)  12302050    Decoder-Batchnorm-2[0][0]        \n",
            "==================================================================================================\n",
            "Total params: 30,068,450\n",
            "Trainable params: 30,064,354\n",
            "Non-trainable params: 4,096\n",
            "__________________________________________________________________________________________________\n"
          ],
          "name": "stdout"
        }
      ]
    },
    {
      "cell_type": "code",
      "metadata": {
        "scrolled": true,
        "id": "oTdG9sy66SCR",
        "colab_type": "code",
        "colab": {
          "base_uri": "https://localhost:8080/",
          "height": 547
        },
        "outputId": "120b2819-912e-4e31-f628-2e2fd51bc736"
      },
      "source": [
        "# from keras import optimizers\n",
        "# model.compile(loss='sparse_categorical_crossentropy', optimizer='adam', metrics=['accuracy'])\n",
        "batch_size = 512\n",
        "epochs = 15\n",
        "#i upped the learning rate by x10,see how that works, its at 21% acc at epoch 5 elsewise\n",
        "# seq2seq_model.compile(optimizer=optimizers.Nadam(lr=0.0005), loss='sparse_categorical_crossentropy', metrics=['accuracy'])\n",
        "seq2seq_model.compile(optimizer='adam', loss='sparse_categorical_crossentropy', metrics=['accuracy'])\n",
        "history = seq2seq_model.fit([encoder_input_data, decoder_input_data],\n",
        "                            np.expand_dims(decoder_target_data, -1),\n",
        "                            batch_size=batch_size,\n",
        "                            epochs=epochs,\n",
        "                            validation_split=0.1)"
      ],
      "execution_count": 43,
      "outputs": [
        {
          "output_type": "stream",
          "text": [
            "Epoch 1/15\n",
            "408/408 [==============================] - 165s 405ms/step - loss: 2.3158 - accuracy: 0.6261 - val_loss: 9.0808 - val_accuracy: 0.1316\n",
            "Epoch 2/15\n",
            "408/408 [==============================] - 167s 408ms/step - loss: 1.6608 - accuracy: 0.6783 - val_loss: 2.3518 - val_accuracy: 0.6333\n",
            "Epoch 3/15\n",
            "408/408 [==============================] - 166s 407ms/step - loss: 1.4554 - accuracy: 0.6964 - val_loss: 2.3974 - val_accuracy: 0.6364\n",
            "Epoch 4/15\n",
            "408/408 [==============================] - 167s 409ms/step - loss: 1.3166 - accuracy: 0.7118 - val_loss: 2.4636 - val_accuracy: 0.6363\n",
            "Epoch 5/15\n",
            "408/408 [==============================] - 166s 407ms/step - loss: 1.2136 - accuracy: 0.7252 - val_loss: 2.5169 - val_accuracy: 0.6362\n",
            "Epoch 6/15\n",
            "408/408 [==============================] - 166s 408ms/step - loss: 1.1291 - accuracy: 0.7372 - val_loss: 2.5795 - val_accuracy: 0.6337\n",
            "Epoch 7/15\n",
            "408/408 [==============================] - 167s 409ms/step - loss: 1.0572 - accuracy: 0.7482 - val_loss: 2.6580 - val_accuracy: 0.6337\n",
            "Epoch 8/15\n",
            "408/408 [==============================] - 167s 410ms/step - loss: 0.9927 - accuracy: 0.7587 - val_loss: 2.7128 - val_accuracy: 0.6321\n",
            "Epoch 9/15\n",
            "408/408 [==============================] - 167s 409ms/step - loss: 0.9341 - accuracy: 0.7686 - val_loss: 2.7710 - val_accuracy: 0.6307\n",
            "Epoch 10/15\n",
            "408/408 [==============================] - 167s 409ms/step - loss: 0.8808 - accuracy: 0.7779 - val_loss: 2.8341 - val_accuracy: 0.6303\n",
            "Epoch 11/15\n",
            "408/408 [==============================] - 166s 408ms/step - loss: 0.8323 - accuracy: 0.7865 - val_loss: 2.8999 - val_accuracy: 0.6282\n",
            "Epoch 12/15\n",
            "408/408 [==============================] - 166s 407ms/step - loss: 0.7872 - accuracy: 0.7951 - val_loss: 2.9532 - val_accuracy: 0.6291\n",
            "Epoch 13/15\n",
            "408/408 [==============================] - 166s 408ms/step - loss: 0.7465 - accuracy: 0.8027 - val_loss: 3.0114 - val_accuracy: 0.6266\n",
            "Epoch 14/15\n",
            "408/408 [==============================] - 167s 408ms/step - loss: 0.7084 - accuracy: 0.8102 - val_loss: 3.0641 - val_accuracy: 0.6271\n",
            "Epoch 15/15\n",
            "408/408 [==============================] - 167s 408ms/step - loss: 0.6732 - accuracy: 0.8173 - val_loss: 3.1172 - val_accuracy: 0.6243\n"
          ],
          "name": "stdout"
        }
      ]
    },
    {
      "cell_type": "code",
      "metadata": {
        "id": "RjQEZKPE6SCT",
        "colab_type": "code",
        "colab": {
          "base_uri": "https://localhost:8080/",
          "height": 295
        },
        "outputId": "43004204-8ea1-4313-cacb-2bd716f9aad3"
      },
      "source": [
        "from matplotlib import pyplot as plt\n",
        "plt.plot(history.history['accuracy'])\n",
        "plt.plot(history.history['val_accuracy'])\n",
        "plt.title('model accuracy')\n",
        "plt.ylabel('accuracy')\n",
        "plt.xlabel('epoch')\n",
        "plt.legend(['train', 'val'], loc='upper left')\n",
        "plt.show()"
      ],
      "execution_count": 44,
      "outputs": [
        {
          "output_type": "display_data",
          "data": {
            "image/png": "[encoded data removed]",
            "text/plain": [
              "<Figure size 432x288 with 1 Axes>"
            ]
          },
          "metadata": {
            "tags": [],
            "needs_background": "light"
          }
        }
      ]
    },
    {
      "cell_type": "code",
      "metadata": {
        "id": "GTrpHjZ66SCa",
        "colab_type": "code",
        "colab": {}
      },
      "source": [
        "# !wget https://storage.googleapis.com/kdd-seq2seq-2018/kdd_seq2seq_weights.h5"
      ],
      "execution_count": 0,
      "outputs": []
    },
    {
      "cell_type": "code",
      "metadata": {
        "id": "AycV7qCf6SCd",
        "colab_type": "code",
        "colab": {}
      },
      "source": [
        "# seq2seq_model.load_weights('kdd_seq2seq_weights.h5')"
      ],
      "execution_count": 0,
      "outputs": []
    },
    {
      "cell_type": "code",
      "metadata": {
        "id": "ic7wjxjK6SCg",
        "colab_type": "code",
        "colab": {}
      },
      "source": [
        "def extract_decoder_model(model):\n",
        "    latent_dim = model.get_layer('Encoder-Model').output_shape[-1]\n",
        "    decoder_inputs = model.get_layer('Decoder-Input').input\n",
        "    dec_emb = model.get_layer('Decoder-Word-Embedding')(decoder_inputs)\n",
        "    dec_bn = model.get_layer('Decoder-Batchnorm-1')(dec_emb)\n",
        "    gru_inference_state_input = Input(shape=(latent_dim,), name='hidden_state_input')\n",
        "    gru_out, gru_state_out = model.get_layer('Decoder-GRU')([dec_bn, gru_inference_state_input])\n",
        "    dec_bn2 = model.get_layer('Decoder-Batchnorm-2')(gru_out)\n",
        "    dense_out = model.get_layer('Final-Output-Dense')(dec_bn2)\n",
        "    decoder_model = Model([decoder_inputs, gru_inference_state_input], [dense_out, gru_state_out])\n",
        "    return decoder_model"
      ],
      "execution_count": 0,
      "outputs": []
    },
    {
      "cell_type": "code",
      "metadata": {
        "scrolled": true,
        "id": "9h5v7SKG6SCn",
        "colab_type": "code",
        "colab": {
          "base_uri": "https://localhost:8080/",
          "height": 408
        },
        "outputId": "deb60a19-0848-4e33-a343-d8a0756e4b95"
      },
      "source": [
        "encoder_model = seq2seq_model.get_layer('Encoder-Model')\n",
        "for layer in encoder_model.layers:\n",
        "    layer.trainable = False\n",
        "\n",
        "decoder_model = extract_decoder_model(seq2seq_model)\n",
        "decoder_model.summary()"
      ],
      "execution_count": 47,
      "outputs": [
        {
          "output_type": "stream",
          "text": [
            "Model: \"model_3\"\n",
            "__________________________________________________________________________________________________\n",
            "Layer (type)                    Output Shape         Param #     Connected to                     \n",
            "==================================================================================================\n",
            "Decoder-Input (InputLayer)      [(None, None)]       0                                            \n",
            "__________________________________________________________________________________________________\n",
            "Decoder-Word-Embedding (Embeddi (None, None, 512)    6145024     Decoder-Input[0][0]              \n",
            "__________________________________________________________________________________________________\n",
            "Decoder-Batchnorm-1 (BatchNorma (None, None, 512)    2048        Decoder-Word-Embedding[1][0]     \n",
            "__________________________________________________________________________________________________\n",
            "hidden_state_input (InputLayer) [(None, 1024)]       0                                            \n",
            "__________________________________________________________________________________________________\n",
            "Decoder-GRU (GRU)               [(None, None, 1024), 4724736     Decoder-Batchnorm-1[1][0]        \n",
            "                                                                 hidden_state_input[0][0]         \n",
            "__________________________________________________________________________________________________\n",
            "Decoder-Batchnorm-2 (BatchNorma (None, None, 1024)   4096        Decoder-GRU[1][0]                \n",
            "__________________________________________________________________________________________________\n",
            "Final-Output-Dense (Dense)      (None, None, 12002)  12302050    Decoder-Batchnorm-2[1][0]        \n",
            "==================================================================================================\n",
            "Total params: 23,177,954\n",
            "Trainable params: 23,174,882\n",
            "Non-trainable params: 3,072\n",
            "__________________________________________________________________________________________________\n"
          ],
          "name": "stdout"
        }
      ]
    },
    {
      "cell_type": "code",
      "metadata": {
        "id": "7jujjain6SCq",
        "colab_type": "code",
        "colab": {
          "base_uri": "https://localhost:8080/",
          "height": 224
        },
        "outputId": "752c8316-eb77-4a93-966c-82db884efec1"
      },
      "source": [
        "i = random.randint(0, len(test_source_docs))\n",
        "\n",
        "max_len = target_proc.padding_maxlen\n",
        "raw_input_text = test_source_docs[i]\n",
        "\n",
        "raw_tokenized = source_proc.transform([raw_input_text])\n",
        "encoding = encoder_model.predict(raw_tokenized)\n",
        "original_encoding = encoding\n",
        "state_value = np.array(target_proc.token2id['_start_']).reshape(1, 1)\n",
        "\n",
        "decoded_sentence = []\n",
        "stop_condition = False\n",
        "while not stop_condition:\n",
        "    preds, st = decoder_model.predict([state_value, encoding])\n",
        "    pred_idx = np.argmax(preds[:, :, 2:]) + 2\n",
        "    pred_word_str = target_proc.id2token[pred_idx]\n",
        "\n",
        "    if pred_word_str == '_end_' or len(decoded_sentence) >= max_len:\n",
        "        stop_condition = True\n",
        "        break\n",
        "    decoded_sentence.append(pred_word_str)\n",
        "\n",
        "    # update the decoder for the next word\n",
        "    encoding = st\n",
        "    state_value = np.array(pred_idx).reshape(1, 1)\n",
        "\n",
        "print('sample code from test set:\\n------------------------\\n', raw_input_text)\n",
        "print('\\nground truth:\\n------------------------\\n', test_target_docs[i])\n",
        "print('\\npredicted description:\\n------------------------')\n",
        "print(' '.join(decoded_sentence))"
      ],
      "execution_count": 48,
      "outputs": [
        {
          "output_type": "stream",
          "text": [
            "sample code from test set:\n",
            "------------------------\n",
            " frozen chopped spinach, salted butter, fresh garlic, onions, flour, heavy cream, fresh lemon juice, pecorino romano cheese, sour cream, sharp white cheddar cheese, mozzarella cheese\n",
            "\n",
            "ground truth:\n",
            "------------------------\n",
            " your last spinach dip recipe\n",
            "\n",
            "predicted description:\n",
            "------------------------\n",
            "paula deen s spinach and cheese casserole\n"
          ],
          "name": "stdout"
        }
      ]
    },
    {
      "cell_type": "code",
      "metadata": {
        "id": "Fcqpl7jJ6SCs",
        "colab_type": "code",
        "colab": {}
      },
      "source": [
        "#generate embeddings"
      ],
      "execution_count": 0,
      "outputs": []
    },
    {
      "cell_type": "code",
      "metadata": {
        "id": "YZL-CpL_6SCu",
        "colab_type": "code",
        "colab": {}
      },
      "source": [
        "train_source_emb = encoder_model.predict(source_proc.transform(source_docs))"
      ],
      "execution_count": 0,
      "outputs": []
    },
    {
      "cell_type": "code",
      "metadata": {
        "id": "fKPWtglo6SCw",
        "colab_type": "code",
        "colab": {}
      },
      "source": [
        "train_target_vecs = proc.transform(target_docs)\n",
        "hidden_states = embedding_model.predict(train_target_vecs[:, 1:])"
      ],
      "execution_count": 0,
      "outputs": []
    },
    {
      "cell_type": "code",
      "metadata": {
        "id": "IsepAYYe6SCy",
        "colab_type": "code",
        "colab": {}
      },
      "source": [
        "mean_vecs = np.mean(hidden_states, axis=1)\n",
        "max_vecs = np.max(hidden_states, axis=1)\n",
        "sum_vecs = np.sum(hidden_states, axis=1)\n",
        "# train_target_emb = mean_vecs\n",
        "train_target_emb = max_vecs"
      ],
      "execution_count": 0,
      "outputs": []
    },
    {
      "cell_type": "code",
      "metadata": {
        "id": "o41uJq356SC1",
        "colab_type": "code",
        "colab": {
          "base_uri": "https://localhost:8080/",
          "height": 51
        },
        "outputId": "83a5e2c6-2dd2-443d-f5d8-27ce2c9fdb88"
      },
      "source": [
        "print('source embedding shape on training set: ', train_source_emb.shape)\n",
        "print('target embedding shape on training set: ', train_target_emb.shape)"
      ],
      "execution_count": 53,
      "outputs": [
        {
          "output_type": "stream",
          "text": [
            "source embedding shape on training set:  (231636, 1024)\n",
            "target embedding shape on training set:  (231636, 256)\n"
          ],
          "name": "stdout"
        }
      ]
    },
    {
      "cell_type": "code",
      "metadata": {
        "id": "ium1lybM6SC5",
        "colab_type": "code",
        "colab": {
          "base_uri": "https://localhost:8080/",
          "height": 88
        },
        "outputId": "250e92b4-5449-4e8a-e5a5-bfd5b704b91c"
      },
      "source": [
        "dimension = hidden_states.shape[-1]\n",
        "index = AnnoyIndex(dimension)\n",
        "for i, v in enumerate(sum_vecs):\n",
        "    index.add_item(i, v)\n",
        "index.build(10)"
      ],
      "execution_count": 54,
      "outputs": [
        {
          "output_type": "stream",
          "text": [
            "/usr/local/lib/python3.6/dist-packages/ipykernel_launcher.py:2: FutureWarning: The default argument for metric will be removed in future version of Annoy. Please pass metric='angular' explicitly.\n",
            "  \n"
          ],
          "name": "stderr"
        },
        {
          "output_type": "execute_result",
          "data": {
            "text/plain": [
              "True"
            ]
          },
          "metadata": {
            "tags": []
          },
          "execution_count": 54
        }
      ]
    },
    {
      "cell_type": "code",
      "metadata": {
        "id": "D0svDuBt6SC_",
        "colab_type": "code",
        "colab": {}
      },
      "source": [
        "#create joint vector space for embeddings"
      ],
      "execution_count": 0,
      "outputs": []
    },
    {
      "cell_type": "code",
      "metadata": {
        "id": "gcAnNNA46SDC",
        "colab_type": "code",
        "colab": {
          "base_uri": "https://localhost:8080/",
          "height": 221
        },
        "outputId": "764d36b2-b46b-494a-c278-9518e74cbf83"
      },
      "source": [
        "inp = Input(shape=(train_source_emb.shape[1],))\n",
        "x = Dense(train_target_emb.shape[1], use_bias=False)(inp)\n",
        "# x = BatchNormalization()(x)\n",
        "# x = Dense(train_target_emb.shape[1])(x)\n",
        "modal_model = Model([inp], x)\n",
        "modal_model.summary()"
      ],
      "execution_count": 56,
      "outputs": [
        {
          "output_type": "stream",
          "text": [
            "Model: \"model_4\"\n",
            "_________________________________________________________________\n",
            "Layer (type)                 Output Shape              Param #   \n",
            "=================================================================\n",
            "input_2 (InputLayer)         [(None, 1024)]            0         \n",
            "_________________________________________________________________\n",
            "dense_1 (Dense)              (None, 256)               262144    \n",
            "=================================================================\n",
            "Total params: 262,144\n",
            "Trainable params: 262,144\n",
            "Non-trainable params: 0\n",
            "_________________________________________________________________\n"
          ],
          "name": "stdout"
        }
      ]
    },
    {
      "cell_type": "code",
      "metadata": {
        "scrolled": true,
        "id": "dDkJBoyT6SDE",
        "colab_type": "code",
        "colab": {
          "base_uri": "https://localhost:8080/",
          "height": 1000
        },
        "outputId": "3a667d34-d5f4-4c90-d121-dadc9dae5440"
      },
      "source": [
        "# modal_model.compile(optimizer=optimizers.Nadam(lr=2), loss='cosine_proximity', metrics=['accuracy'])\n",
        "modal_model.compile(optimizer = 'adam', loss='cosine_similarity', metrics=['accuracy'])\n",
        "batch_size = 512\n",
        "epochs = 50\n",
        "history = modal_model.fit([train_source_emb], train_target_emb,\n",
        "                          batch_size=batch_size, epochs=epochs, validation_split=0.1)"
      ],
      "execution_count": 61,
      "outputs": [
        {
          "output_type": "stream",
          "text": [
            "Epoch 1/50\n",
            "408/408 [==============================] - 2s 5ms/step - loss: -0.8544 - accuracy: 0.0364 - val_loss: -0.8709 - val_accuracy: 0.0452\n",
            "Epoch 2/50\n",
            "408/408 [==============================] - 2s 4ms/step - loss: -0.8788 - accuracy: 0.0485 - val_loss: -0.8730 - val_accuracy: 0.0491\n",
            "Epoch 3/50\n",
            "408/408 [==============================] - 2s 4ms/step - loss: -0.8807 - accuracy: 0.0525 - val_loss: -0.8738 - val_accuracy: 0.0516\n",
            "Epoch 4/50\n",
            "408/408 [==============================] - 2s 4ms/step - loss: -0.8814 - accuracy: 0.0546 - val_loss: -0.8740 - val_accuracy: 0.0500\n",
            "Epoch 5/50\n",
            "408/408 [==============================] - 2s 4ms/step - loss: -0.8818 - accuracy: 0.0564 - val_loss: -0.8741 - val_accuracy: 0.0519\n",
            "Epoch 6/50\n",
            "408/408 [==============================] - 2s 4ms/step - loss: -0.8820 - accuracy: 0.0573 - val_loss: -0.8742 - val_accuracy: 0.0515\n",
            "Epoch 7/50\n",
            "408/408 [==============================] - 2s 4ms/step - loss: -0.8821 - accuracy: 0.0581 - val_loss: -0.8742 - val_accuracy: 0.0518\n",
            "Epoch 8/50\n",
            "408/408 [==============================] - 2s 4ms/step - loss: -0.8822 - accuracy: 0.0587 - val_loss: -0.8741 - val_accuracy: 0.0547\n",
            "Epoch 9/50\n",
            "408/408 [==============================] - 2s 4ms/step - loss: -0.8823 - accuracy: 0.0594 - val_loss: -0.8742 - val_accuracy: 0.0541\n",
            "Epoch 10/50\n",
            "408/408 [==============================] - 2s 4ms/step - loss: -0.8823 - accuracy: 0.0597 - val_loss: -0.8744 - val_accuracy: 0.0533\n",
            "Epoch 11/50\n",
            "408/408 [==============================] - 2s 4ms/step - loss: -0.8824 - accuracy: 0.0593 - val_loss: -0.8743 - val_accuracy: 0.0559\n",
            "Epoch 12/50\n",
            "408/408 [==============================] - 2s 4ms/step - loss: -0.8824 - accuracy: 0.0602 - val_loss: -0.8743 - val_accuracy: 0.0548\n",
            "Epoch 13/50\n",
            "408/408 [==============================] - 2s 4ms/step - loss: -0.8824 - accuracy: 0.0600 - val_loss: -0.8743 - val_accuracy: 0.0523\n",
            "Epoch 14/50\n",
            "408/408 [==============================] - 2s 4ms/step - loss: -0.8825 - accuracy: 0.0597 - val_loss: -0.8743 - val_accuracy: 0.0550\n",
            "Epoch 15/50\n",
            "408/408 [==============================] - 2s 4ms/step - loss: -0.8825 - accuracy: 0.0602 - val_loss: -0.8743 - val_accuracy: 0.0536\n",
            "Epoch 16/50\n",
            "408/408 [==============================] - 2s 4ms/step - loss: -0.8825 - accuracy: 0.0600 - val_loss: -0.8744 - val_accuracy: 0.0549\n",
            "Epoch 17/50\n",
            "408/408 [==============================] - 2s 4ms/step - loss: -0.8826 - accuracy: 0.0604 - val_loss: -0.8743 - val_accuracy: 0.0527\n",
            "Epoch 18/50\n",
            "408/408 [==============================] - 2s 4ms/step - loss: -0.8826 - accuracy: 0.0604 - val_loss: -0.8743 - val_accuracy: 0.0571\n",
            "Epoch 19/50\n",
            "408/408 [==============================] - 2s 4ms/step - loss: -0.8826 - accuracy: 0.0601 - val_loss: -0.8743 - val_accuracy: 0.0550\n",
            "Epoch 20/50\n",
            "408/408 [==============================] - 2s 4ms/step - loss: -0.8826 - accuracy: 0.0604 - val_loss: -0.8744 - val_accuracy: 0.0567\n",
            "Epoch 21/50\n",
            "408/408 [==============================] - 2s 4ms/step - loss: -0.8826 - accuracy: 0.0603 - val_loss: -0.8744 - val_accuracy: 0.0575\n",
            "Epoch 22/50\n",
            "408/408 [==============================] - 2s 4ms/step - loss: -0.8827 - accuracy: 0.0603 - val_loss: -0.8745 - val_accuracy: 0.0536\n",
            "Epoch 23/50\n",
            "408/408 [==============================] - 2s 4ms/step - loss: -0.8827 - accuracy: 0.0605 - val_loss: -0.8744 - val_accuracy: 0.0540\n",
            "Epoch 24/50\n",
            "408/408 [==============================] - 2s 4ms/step - loss: -0.8827 - accuracy: 0.0606 - val_loss: -0.8743 - val_accuracy: 0.0539\n",
            "Epoch 25/50\n",
            "408/408 [==============================] - 2s 4ms/step - loss: -0.8827 - accuracy: 0.0602 - val_loss: -0.8744 - val_accuracy: 0.0584\n",
            "Epoch 26/50\n",
            "408/408 [==============================] - 2s 4ms/step - loss: -0.8827 - accuracy: 0.0607 - val_loss: -0.8744 - val_accuracy: 0.0544\n",
            "Epoch 27/50\n",
            "408/408 [==============================] - 2s 4ms/step - loss: -0.8827 - accuracy: 0.0607 - val_loss: -0.8744 - val_accuracy: 0.0563\n",
            "Epoch 28/50\n",
            "408/408 [==============================] - 2s 4ms/step - loss: -0.8827 - accuracy: 0.0605 - val_loss: -0.8745 - val_accuracy: 0.0564\n",
            "Epoch 29/50\n",
            "408/408 [==============================] - 2s 4ms/step - loss: -0.8827 - accuracy: 0.0607 - val_loss: -0.8745 - val_accuracy: 0.0551\n",
            "Epoch 30/50\n",
            "408/408 [==============================] - 2s 4ms/step - loss: -0.8828 - accuracy: 0.0607 - val_loss: -0.8745 - val_accuracy: 0.0531\n",
            "Epoch 31/50\n",
            "408/408 [==============================] - 2s 4ms/step - loss: -0.8828 - accuracy: 0.0604 - val_loss: -0.8744 - val_accuracy: 0.0552\n",
            "Epoch 32/50\n",
            "408/408 [==============================] - 2s 4ms/step - loss: -0.8828 - accuracy: 0.0603 - val_loss: -0.8744 - val_accuracy: 0.0581\n",
            "Epoch 33/50\n",
            "408/408 [==============================] - 2s 4ms/step - loss: -0.8828 - accuracy: 0.0603 - val_loss: -0.8744 - val_accuracy: 0.0509\n",
            "Epoch 34/50\n",
            "408/408 [==============================] - 2s 4ms/step - loss: -0.8828 - accuracy: 0.0605 - val_loss: -0.8745 - val_accuracy: 0.0561\n",
            "Epoch 35/50\n",
            "408/408 [==============================] - 2s 4ms/step - loss: -0.8828 - accuracy: 0.0605 - val_loss: -0.8745 - val_accuracy: 0.0569\n",
            "Epoch 36/50\n",
            "408/408 [==============================] - 2s 4ms/step - loss: -0.8828 - accuracy: 0.0608 - val_loss: -0.8744 - val_accuracy: 0.0537\n",
            "Epoch 37/50\n",
            "408/408 [==============================] - 2s 4ms/step - loss: -0.8828 - accuracy: 0.0606 - val_loss: -0.8744 - val_accuracy: 0.0548\n",
            "Epoch 38/50\n",
            "408/408 [==============================] - 2s 4ms/step - loss: -0.8828 - accuracy: 0.0609 - val_loss: -0.8744 - val_accuracy: 0.0550\n",
            "Epoch 39/50\n",
            "408/408 [==============================] - 2s 4ms/step - loss: -0.8828 - accuracy: 0.0607 - val_loss: -0.8745 - val_accuracy: 0.0526\n",
            "Epoch 40/50\n",
            "408/408 [==============================] - 2s 4ms/step - loss: -0.8828 - accuracy: 0.0606 - val_loss: -0.8744 - val_accuracy: 0.0591\n",
            "Epoch 41/50\n",
            "408/408 [==============================] - 2s 4ms/step - loss: -0.8828 - accuracy: 0.0608 - val_loss: -0.8745 - val_accuracy: 0.0537\n",
            "Epoch 42/50\n",
            "408/408 [==============================] - 2s 4ms/step - loss: -0.8828 - accuracy: 0.0609 - val_loss: -0.8744 - val_accuracy: 0.0544\n",
            "Epoch 43/50\n",
            "408/408 [==============================] - 2s 4ms/step - loss: -0.8829 - accuracy: 0.0609 - val_loss: -0.8745 - val_accuracy: 0.0551\n",
            "Epoch 44/50\n",
            "408/408 [==============================] - 2s 5ms/step - loss: -0.8829 - accuracy: 0.0607 - val_loss: -0.8745 - val_accuracy: 0.0559\n",
            "Epoch 45/50\n",
            "408/408 [==============================] - 2s 4ms/step - loss: -0.8829 - accuracy: 0.0612 - val_loss: -0.8743 - val_accuracy: 0.0566\n",
            "Epoch 46/50\n",
            "408/408 [==============================] - 2s 4ms/step - loss: -0.8829 - accuracy: 0.0604 - val_loss: -0.8744 - val_accuracy: 0.0559\n",
            "Epoch 47/50\n",
            "408/408 [==============================] - 2s 4ms/step - loss: -0.8829 - accuracy: 0.0609 - val_loss: -0.8745 - val_accuracy: 0.0572\n",
            "Epoch 48/50\n",
            "408/408 [==============================] - 2s 4ms/step - loss: -0.8829 - accuracy: 0.0606 - val_loss: -0.8744 - val_accuracy: 0.0555\n",
            "Epoch 49/50\n",
            "408/408 [==============================] - 2s 4ms/step - loss: -0.8829 - accuracy: 0.0603 - val_loss: -0.8745 - val_accuracy: 0.0570\n",
            "Epoch 50/50\n",
            "408/408 [==============================] - 2s 4ms/step - loss: -0.8829 - accuracy: 0.0605 - val_loss: -0.8744 - val_accuracy: 0.0540\n"
          ],
          "name": "stdout"
        }
      ]
    },
    {
      "cell_type": "code",
      "metadata": {
        "id": "jd1PRqAF6SDL",
        "colab_type": "code",
        "colab": {
          "base_uri": "https://localhost:8080/",
          "height": 295
        },
        "outputId": "ce63dcc3-e6c5-4f62-b1de-f156c9f4ce5e"
      },
      "source": [
        "from matplotlib import pyplot as plt\n",
        "plt.plot(history.history['accuracy'])\n",
        "plt.plot(history.history['val_accuracy'])\n",
        "plt.title('model accuracy')\n",
        "plt.ylabel('accuracy')\n",
        "plt.xlabel('epoch')\n",
        "plt.legend(['train', 'val'], loc='upper left')\n",
        "plt.show()"
      ],
      "execution_count": 64,
      "outputs": [
        {
          "output_type": "display_data",
          "data": {
            "image/png": "[encoded data removed]",
            "text/plain": [
              "<Figure size 432x288 with 1 Axes>"
            ]
          },
          "metadata": {
            "tags": [],
            "needs_background": "light"
          }
        }
      ]
    },
    {
      "cell_type": "code",
      "metadata": {
        "id": "fUUvZqny6SDN",
        "colab_type": "code",
        "colab": {
          "base_uri": "https://localhost:8080/",
          "height": 34
        },
        "outputId": "77890905-1a36-4a1b-8052-e6064d09687b"
      },
      "source": [
        "vec_code = modal_model.predict(encoder_model.predict(source_proc.transform(source_docs)))\n",
        "vec_code.shape"
      ],
      "execution_count": 65,
      "outputs": [
        {
          "output_type": "execute_result",
          "data": {
            "text/plain": [
              "(231636, 256)"
            ]
          },
          "metadata": {
            "tags": []
          },
          "execution_count": 65
        }
      ]
    },
    {
      "cell_type": "code",
      "metadata": {
        "id": "uTW0VhS26SDP",
        "colab_type": "code",
        "colab": {
          "base_uri": "https://localhost:8080/",
          "height": 88
        },
        "outputId": "61949fcc-fe70-4058-dd36-cc189445c80c"
      },
      "source": [
        "#all code in a search box\n",
        "dimension = vec_code.shape[-1]\n",
        "index = AnnoyIndex(dimension)\n",
        "for i, v in enumerate(vec_code):\n",
        "    index.add_item(i, v)\n",
        "index.build(10)"
      ],
      "execution_count": 66,
      "outputs": [
        {
          "output_type": "stream",
          "text": [
            "/usr/local/lib/python3.6/dist-packages/ipykernel_launcher.py:3: FutureWarning: The default argument for metric will be removed in future version of Annoy. Please pass metric='angular' explicitly.\n",
            "  This is separate from the ipykernel package so we can avoid doing imports until\n"
          ],
          "name": "stderr"
        },
        {
          "output_type": "execute_result",
          "data": {
            "text/plain": [
              "True"
            ]
          },
          "metadata": {
            "tags": []
          },
          "execution_count": 66
        }
      ]
    },
    {
      "cell_type": "code",
      "metadata": {
        "id": "0_e2NEOr6SDR",
        "colab_type": "code",
        "colab": {}
      },
      "source": [
        "def vectorize_string(txt):\n",
        "  vec = proc.transform([txt])[:,1:]\n",
        "  emb = np.mean(embedding_model.predict(vec), axis=1)\n",
        "  return emb"
      ],
      "execution_count": 0,
      "outputs": []
    },
    {
      "cell_type": "code",
      "metadata": {
        "id": "dGEZ8bpd6SDX",
        "colab_type": "code",
        "colab": {}
      },
      "source": [
        "def search(inp):\n",
        "  inp = vectorize_string(inp)\n",
        "  ids, dist = index.get_nns_by_vector(inp.squeeze(), 5, include_distances=True)\n",
        "\n",
        "  for i, dist in zip(ids, dist):\n",
        "    print(f'dist: {dist:.2f}\\n{source_docs[i]}\\n')"
      ],
      "execution_count": 0,
      "outputs": []
    },
    {
      "cell_type": "code",
      "metadata": {
        "scrolled": true,
        "id": "_8hdS8H86SDZ",
        "colab_type": "code",
        "colab": {}
      },
      "source": [
        "# search('read csv file into pandas dataframe')"
      ],
      "execution_count": 0,
      "outputs": []
    },
    {
      "cell_type": "code",
      "metadata": {
        "id": "JLCfj7LB6SDb",
        "colab_type": "code",
        "colab": {
          "base_uri": "https://localhost:8080/",
          "height": 292
        },
        "outputId": "03f31cd6-36c9-4dae-d32d-83c707984729"
      },
      "source": [
        " search('chicken pot pie')"
      ],
      "execution_count": 70,
      "outputs": [
        {
          "output_type": "stream",
          "text": [
            "dist: 1.02\n",
            "boneless skinless chicken breasts, margarine, water, ritz cracker crumbs, parmesan cheese, cream of chicken soup, sour cream, mushrooms\n",
            "\n",
            "dist: 1.02\n",
            "chicken fat, onions, carrot, celery, green pepper, apple, chicken broth, all-purpose flour, canned tomato, salt, pepper, curry powder, cooked chicken\n",
            "\n",
            "dist: 1.03\n",
            "boneless skinless chicken breasts, \"aunt janes krazy mixed up salt\", olive oil, onion, cream of mushroom soup, cream of chicken soup, sour cream, ritz cracker, butter\n",
            "\n",
            "dist: 1.03\n",
            "milk, flour, cream of mushroom soup, dry onion soup mix, margarine, chicken\n",
            "\n",
            "dist: 1.03\n",
            "chicken breasts, mushroom soup, white wine, milk, pepperidge farm stuffing\n",
            "\n"
          ],
          "name": "stdout"
        }
      ]
    },
    {
      "cell_type": "code",
      "metadata": {
        "id": "0L5siZ2_6SDd",
        "colab_type": "code",
        "colab": {
          "base_uri": "https://localhost:8080/",
          "height": 272
        },
        "outputId": "cd3b0ec3-5cfc-4872-aea4-32e1bb689773"
      },
      "source": [
        " search('iced tea')"
      ],
      "execution_count": 71,
      "outputs": [
        {
          "output_type": "stream",
          "text": [
            "dist: 1.02\n",
            "limoncello, vodka, cranberry juice\n",
            "\n",
            "dist: 1.02\n",
            "cranberries, vodka\n",
            "\n",
            "dist: 1.03\n",
            "triple sec, grand marnier, light rum, orange juice, creme de almond\n",
            "\n",
            "dist: 1.03\n",
            "vodka, pomegranate liqueur, unsweetened cranberry juice\n",
            "\n",
            "dist: 1.03\n",
            "rum, chambord raspberry liquor, apple juice\n",
            "\n"
          ],
          "name": "stdout"
        }
      ]
    },
    {
      "cell_type": "code",
      "metadata": {
        "id": "ex_pXhIy6SDf",
        "colab_type": "code",
        "colab": {
          "base_uri": "https://localhost:8080/",
          "height": 292
        },
        "outputId": "38b71632-2ee4-46fa-e8ec-1e57915a6766"
      },
      "source": [
        " search('chocolate chip cookie')"
      ],
      "execution_count": 72,
      "outputs": [
        {
          "output_type": "stream",
          "text": [
            "dist: 1.00\n",
            "butter, graham cracker crumbs, sweetened condensed milk, butterscotch chips, semi-sweet chocolate chips, flaked coconut, nuts\n",
            "\n",
            "dist: 1.01\n",
            "graham cracker crumbs, butter, sweetened condensed milk, semi-sweet chocolate chips, milk chocolate chips, vanilla extract, pecans\n",
            "\n",
            "dist: 1.01\n",
            "butter, graham cracker crumbs, coconut, butterscotch chips, semi-sweet chocolate chips, sweetened condensed milk, nuts\n",
            "\n",
            "dist: 1.01\n",
            "butter, graham crackers, chocolate chips, butterscotch chips, coconut, walnuts, condensed milk\n",
            "\n",
            "dist: 1.01\n",
            "butter, graham wafer crumbs, sweetened flaked coconut, chocolate chips, butterscotch chips, sweetened condensed milk, walnuts\n",
            "\n"
          ],
          "name": "stdout"
        }
      ]
    },
    {
      "cell_type": "code",
      "metadata": {
        "id": "-gIPbxKr6SDh",
        "colab_type": "code",
        "colab": {}
      },
      "source": [
        ""
      ],
      "execution_count": 0,
      "outputs": []
    }
  ]
}